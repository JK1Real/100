import pandas as pd
import numpy as np
from sklearn.preprocessing import StandardScaler
from sklearn.model_selection import train_test_split
from sklearn import svm
from sklearn.metrics import accuracy_score





diabetes_dataset = pd.read_csv('https://www.dropbox.com/s/uh7o7uyeghqkhoy/diabetes.csv?dl=1')


diabetes_dataset.sample(5)


# Number of rows and columns
diabetes_dataset.shape


diabetes_dataset.describe()


diabetes_dataset['Outcome'].value_counts()





diabetes_dataset.groupby('Outcome').mean()


# Separating data and labels
X = diabetes_dataset.drop(columns="Outcome",axis=1)
y = diabetes_dataset['Outcome']


X


y





scaler =StandardScaler()


scaler.fit(X)


standardized_data = scaler.transform(X)





X = standardized_data


print(X)
print(y)





X_train,X_test,y_train,y_test = train_test_split(X,y,test_size=0.2,stratify=y,random_state=2)


print(X.shape,X_train.shape,X_test.shape)


classifier = svm.SVC(kernel='linear')


# Training support vector classifier


classifier.fit(X_train,y_train)


classifier.get_params()








X_train_prediction = classifier.predict(X_train)
training_data_accuracy = accuracy_score(X_train_prediction,y_train)


print(f"Accuracy Score of training data :{training_data_accuracy}")


X_test_prediction = classifier.predict(X_test)
testing_data_accuracy = accuracy_score(X_test_prediction,y_test)


print(f"Accuracy Score of testing data :{testing_data_accuracy}")


input_data = (1,85,66,29,0,26.6,0.351,31)

input_data_asarray = np.array(input_data)

input_reshaped_data = input_data_asarray.reshape(1,-1)

std_data = scaler.transform(input_reshaped_data)


print(std_data)


prediction = classifier.predict(std_data)
print(prediction)





if prediction[0]:
    print("Person is  diabetic")
else:
    print("Person is non diabetic")






