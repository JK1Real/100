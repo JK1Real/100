import pandas as pd
import seaborn as sns
from sklearn import datasets
import matplotlib.pyplot as plt
from sklearn.model_selection import train_test_split
from xgboost import XGBRegressor
from sklearn import metrics





house_data = datasets.fetch_california_housing()


print(house_data)


# Loading dataset into pandas dataframe


house_df = pd.DataFrame(data= house_data['data'],columns=house_data['feature_names'])


house_df.head()


house_df.shape


# Add target to dataframe

house_df[house_data['target_names'][0]] = house_data['target']


house_df.head()


house_df.shape


# Checking for missing values
house_df.isnull().sum()


# statitical measures of data
house_df.describe()


# understanding correlation between data points
correlation = house_df.corr()


#constructing heatmap
plt.figure(figsize=(10,10))
sns.heatmap(correlation,cbar=True,square=True,fmt='.1f',annot=True,annot_kws={'size':8},cmap='Blues')


# splitting the data and target


X = house_df.drop('MedHouseVal',axis=1)
y = house_df['MedHouseVal']


# splitting the data into train data and test data 


X_train,X_test,y_train,y_test = train_test_split(X,y,test_size=0.2,random_state=2)


print(X.shape,X_train.shape,X_test.shape)


# Model training


# XGboost regressor model


model =XGBRegressor()


# training model with Xtrain


model.fit(X_train,y_train)


# Predicting


training_data_predictiion = model.predict(X_train)


print(training_data_predictiion)


# R squared error


score1 = metrics.r2_score(y_train,training_data_predictiion)
score1


# mean absolute error
score_2 = metrics.mean_absolute_error(y_train,training_data_predictiion)
score_2


print('R squared error :',score1)
print('mean square error :',score_2)


plt.scatter(y_train,training_data_predictiion)
plt.xlabel("Actual value")
plt.ylabel("Predicted value")
plt.title('Actual price vs predicted price')
plt.show()


test_data_predictiion = model.predict(X_test)


score1 = metrics.r2_score(y_test,test_data_predictiion)
score1


# mean absolute error
score_2 = metrics.mean_absolute_error(y_test,test_data_predictiion)
score_2


# Visualising 


plt.scatter(y_test,test_data_predictiion)
plt.xlabel("Actual value")
plt.ylabel("Predicted value")
plt.title('Actual price vs predicted price')
plt.show()



